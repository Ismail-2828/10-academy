{
 "cells": [
  {
   "cell_type": "code",
   "execution_count": 2,
   "metadata": {},
   "outputs": [],
   "source": [
    "import numpy as np\n",
    "import pandas as pd \n"
   ]
  },
  {
   "cell_type": "code",
   "execution_count": 3,
   "metadata": {},
   "outputs": [],
   "source": [
    "traffic_data = pd.read_csv(r\"C:\\Users\\ismai\\chalenge\\10X_Files\\traffic_data\\traffic.csv\")\n",
    "raw_data = pd.read_csv(r\"C:\\Users\\ismai\\chalenge\\10X_Files\\raw_data\\data.csv\")\n",
    "rating_data = pd.read_csv(r\"C:\\Users\\ismai\\chalenge\\10X_Files\\data.csv\\rating.csv\")\n"
   ]
  },
  {
   "cell_type": "code",
   "execution_count": 26,
   "metadata": {},
   "outputs": [
    {
     "data": {
      "text/plain": [
       "Index(['article_id', 'source_id', 'source_name', 'author', 'title',\n",
       "       'description', 'url', 'url_to_image', 'published_at', 'content',\n",
       "       'category', 'article', 'title_sentiment', 'country'],\n",
       "      dtype='object')"
      ]
     },
     "execution_count": 26,
     "metadata": {},
     "output_type": "execute_result"
    }
   ],
   "source": [
    "rating_data.columns"
   ]
  },
  {
   "cell_type": "code",
   "execution_count": 27,
   "metadata": {},
   "outputs": [
    {
     "data": {
      "text/plain": [
       "Index(['article_id', 'source_id', 'source_name', 'author', 'title',\n",
       "       'description', 'url', 'url_to_image', 'published_at', 'content',\n",
       "       'category', 'full_content'],\n",
       "      dtype='object')"
      ]
     },
     "execution_count": 27,
     "metadata": {},
     "output_type": "execute_result"
    }
   ],
   "source": [
    "raw_data.columns"
   ]
  },
  {
   "cell_type": "code",
   "execution_count": 75,
   "metadata": {},
   "outputs": [
    {
     "data": {
      "text/html": [
       "<div>\n",
       "<style scoped>\n",
       "    .dataframe tbody tr th:only-of-type {\n",
       "        vertical-align: middle;\n",
       "    }\n",
       "\n",
       "    .dataframe tbody tr th {\n",
       "        vertical-align: top;\n",
       "    }\n",
       "\n",
       "    .dataframe thead th {\n",
       "        text-align: right;\n",
       "    }\n",
       "</style>\n",
       "<table border=\"1\" class=\"dataframe\">\n",
       "  <thead>\n",
       "    <tr style=\"text-align: right;\">\n",
       "      <th></th>\n",
       "      <th>GlobalRank</th>\n",
       "      <th>TldRank</th>\n",
       "      <th>Domain</th>\n",
       "      <th>TLD</th>\n",
       "      <th>RefSubNets</th>\n",
       "      <th>RefIPs</th>\n",
       "      <th>IDN_Domain</th>\n",
       "      <th>IDN_TLD</th>\n",
       "      <th>PrevGlobalRank</th>\n",
       "      <th>PrevTldRank</th>\n",
       "      <th>PrevRefSubNets</th>\n",
       "      <th>PrevRefIPs</th>\n",
       "    </tr>\n",
       "  </thead>\n",
       "  <tbody>\n",
       "    <tr>\n",
       "      <th>999995</th>\n",
       "      <td>999996</td>\n",
       "      <td>485324</td>\n",
       "      <td>kireie.com</td>\n",
       "      <td>com</td>\n",
       "      <td>222</td>\n",
       "      <td>280</td>\n",
       "      <td>kireie.com</td>\n",
       "      <td>com</td>\n",
       "      <td>-1</td>\n",
       "      <td>-1</td>\n",
       "      <td>-1</td>\n",
       "      <td>-1</td>\n",
       "    </tr>\n",
       "    <tr>\n",
       "      <th>999996</th>\n",
       "      <td>999997</td>\n",
       "      <td>485325</td>\n",
       "      <td>mt-lock.com</td>\n",
       "      <td>com</td>\n",
       "      <td>222</td>\n",
       "      <td>280</td>\n",
       "      <td>mt-lock.com</td>\n",
       "      <td>com</td>\n",
       "      <td>952633</td>\n",
       "      <td>461429</td>\n",
       "      <td>232</td>\n",
       "      <td>284</td>\n",
       "    </tr>\n",
       "    <tr>\n",
       "      <th>999997</th>\n",
       "      <td>999998</td>\n",
       "      <td>485326</td>\n",
       "      <td>pinkwater.com</td>\n",
       "      <td>com</td>\n",
       "      <td>222</td>\n",
       "      <td>280</td>\n",
       "      <td>pinkwater.com</td>\n",
       "      <td>com</td>\n",
       "      <td>-1</td>\n",
       "      <td>-1</td>\n",
       "      <td>-1</td>\n",
       "      <td>-1</td>\n",
       "    </tr>\n",
       "    <tr>\n",
       "      <th>999998</th>\n",
       "      <td>999999</td>\n",
       "      <td>485327</td>\n",
       "      <td>soderhomes.com</td>\n",
       "      <td>com</td>\n",
       "      <td>222</td>\n",
       "      <td>280</td>\n",
       "      <td>soderhomes.com</td>\n",
       "      <td>com</td>\n",
       "      <td>-1</td>\n",
       "      <td>-1</td>\n",
       "      <td>-1</td>\n",
       "      <td>-1</td>\n",
       "    </tr>\n",
       "    <tr>\n",
       "      <th>999999</th>\n",
       "      <td>1000000</td>\n",
       "      <td>485328</td>\n",
       "      <td>toyotamusicfactory.com</td>\n",
       "      <td>com</td>\n",
       "      <td>222</td>\n",
       "      <td>280</td>\n",
       "      <td>toyotamusicfactory.com</td>\n",
       "      <td>com</td>\n",
       "      <td>973201</td>\n",
       "      <td>471949</td>\n",
       "      <td>228</td>\n",
       "      <td>284</td>\n",
       "    </tr>\n",
       "  </tbody>\n",
       "</table>\n",
       "</div>"
      ],
      "text/plain": [
       "        GlobalRank  TldRank                  Domain  TLD  RefSubNets  RefIPs  \\\n",
       "999995      999996   485324              kireie.com  com         222     280   \n",
       "999996      999997   485325             mt-lock.com  com         222     280   \n",
       "999997      999998   485326           pinkwater.com  com         222     280   \n",
       "999998      999999   485327          soderhomes.com  com         222     280   \n",
       "999999     1000000   485328  toyotamusicfactory.com  com         222     280   \n",
       "\n",
       "                    IDN_Domain IDN_TLD  PrevGlobalRank  PrevTldRank  \\\n",
       "999995              kireie.com     com              -1           -1   \n",
       "999996             mt-lock.com     com          952633       461429   \n",
       "999997           pinkwater.com     com              -1           -1   \n",
       "999998          soderhomes.com     com              -1           -1   \n",
       "999999  toyotamusicfactory.com     com          973201       471949   \n",
       "\n",
       "        PrevRefSubNets  PrevRefIPs  \n",
       "999995              -1          -1  \n",
       "999996             232         284  \n",
       "999997              -1          -1  \n",
       "999998              -1          -1  \n",
       "999999             228         284  "
      ]
     },
     "execution_count": 75,
     "metadata": {},
     "output_type": "execute_result"
    }
   ],
   "source": [
    "traffic_data.tail()"
   ]
  },
  {
   "cell_type": "code",
   "execution_count": 3,
   "metadata": {},
   "outputs": [
    {
     "data": {
      "text/plain": [
       "Index(['GlobalRank', 'TldRank', 'Domain', 'TLD', 'RefSubNets', 'RefIPs',\n",
       "       'IDN_Domain', 'IDN_TLD', 'PrevGlobalRank', 'PrevTldRank',\n",
       "       'PrevRefSubNets', 'PrevRefIPs'],\n",
       "      dtype='object')"
      ]
     },
     "execution_count": 3,
     "metadata": {},
     "output_type": "execute_result"
    }
   ],
   "source": [
    "traffic_data.columns"
   ]
  },
  {
   "cell_type": "code",
   "execution_count": 7,
   "metadata": {},
   "outputs": [
    {
     "name": "stdout",
     "output_type": "stream",
     "text": [
      "                 Domain  GlobalRank\n",
      "0            google.com           1\n",
      "1          facebook.com           2\n",
      "2           youtube.com           3\n",
      "3           twitter.com           4\n",
      "4         instagram.com           5\n",
      "5          linkedin.com           6\n",
      "6             apple.com           7\n",
      "7         microsoft.com           8\n",
      "8  googletagmanager.com           9\n",
      "9         wikipedia.org          10\n"
     ]
    }
   ],
   "source": [
    "#Question 2\n",
    "sorted_traffic_data = traffic_data.sort_values(by='GlobalRank', ascending=True)\n",
    "top_traffic_websites = sorted_traffic_data.head(10)\n",
    "print(top_traffic_websites[['Domain', 'GlobalRank']])\n"
   ]
  },
  {
   "cell_type": "code",
   "execution_count": 100,
   "metadata": {},
   "outputs": [
    {
     "data": {
      "text/plain": [
       "www                        367\n",
       "google                     234\n",
       "nic                         72\n",
       "blogspot                    70\n",
       "lemmy                       61\n",
       "                          ... \n",
       "remue                        1\n",
       "ballymaloecookeryschool      1\n",
       "vismaspcs                    1\n",
       "academiedugout               1\n",
       "toyotamusicfactory           1\n",
       "Name: Domain_name, Length: 909225, dtype: int64"
      ]
     },
     "execution_count": 100,
     "metadata": {},
     "output_type": "execute_result"
    }
   ],
   "source": [
    "domain_list = traffic_data[\"Domain\"].tolist()\n",
    "split_domains = [domain.split(\".\")[0] for domain in domain_list]\n",
    "traffic_data[\"Domain_name\"] = split_domains\n",
    "traffic_data[\"Domain_name\"].value_counts()"
   ]
  },
  {
   "cell_type": "code",
   "execution_count": 59,
   "metadata": {},
   "outputs": [
    {
     "data": {
      "text/plain": [
       "Index(['article_id', 'source_id', 'source_name', 'author', 'title',\n",
       "       'description', 'url', 'url_to_image', 'published_at', 'content',\n",
       "       'category', 'full_content'],\n",
       "      dtype='object')"
      ]
     },
     "execution_count": 59,
     "metadata": {},
     "output_type": "execute_result"
    }
   ],
   "source": [
    "raw_data.columns"
   ]
  },
  {
   "cell_type": "code",
   "execution_count": 19,
   "metadata": {},
   "outputs": [
    {
     "data": {
      "text/html": [
       "<div>\n",
       "<style scoped>\n",
       "    .dataframe tbody tr th:only-of-type {\n",
       "        vertical-align: middle;\n",
       "    }\n",
       "\n",
       "    .dataframe tbody tr th {\n",
       "        vertical-align: top;\n",
       "    }\n",
       "\n",
       "    .dataframe thead th {\n",
       "        text-align: right;\n",
       "    }\n",
       "</style>\n",
       "<table border=\"1\" class=\"dataframe\">\n",
       "  <thead>\n",
       "    <tr style=\"text-align: right;\">\n",
       "      <th></th>\n",
       "      <th>article_id</th>\n",
       "      <th>source_id</th>\n",
       "      <th>source_name</th>\n",
       "      <th>author</th>\n",
       "      <th>title</th>\n",
       "      <th>description</th>\n",
       "      <th>url</th>\n",
       "      <th>url_to_image</th>\n",
       "      <th>published_at</th>\n",
       "      <th>content</th>\n",
       "      <th>category</th>\n",
       "      <th>article</th>\n",
       "      <th>title_sentiment</th>\n",
       "    </tr>\n",
       "  </thead>\n",
       "  <tbody>\n",
       "    <tr>\n",
       "      <th>0</th>\n",
       "      <td>81664</td>\n",
       "      <td>NaN</td>\n",
       "      <td>Forbes</td>\n",
       "      <td>Elizabeth Brownfield, Contributor, \\n Elizabet...</td>\n",
       "      <td>superstar chef yannick alléno brings refined f...</td>\n",
       "      <td>Now open in Mayfair at Four Seasons Hotel Lond...</td>\n",
       "      <td>https://www.forbes.com/sites/elizabethbrownfie...</td>\n",
       "      <td>https://imageio.forbes.com/specials-images/ima...</td>\n",
       "      <td>2023-11-01 03:27:21.000000</td>\n",
       "      <td>Pavyllon London, at Four Seasons Hotel London ...</td>\n",
       "      <td>Monaco</td>\n",
       "      <td>pavyllon london, at four seasons hotel london ...</td>\n",
       "      <td>Neutral</td>\n",
       "    </tr>\n",
       "    <tr>\n",
       "      <th>1</th>\n",
       "      <td>81667</td>\n",
       "      <td>NaN</td>\n",
       "      <td>CNA</td>\n",
       "      <td>NaN</td>\n",
       "      <td>nice claim top spot in ligue 1 with late win a...</td>\n",
       "      <td>Nice moved into provisional first place in the...</td>\n",
       "      <td>https://www.channelnewsasia.com/sport/nice-cla...</td>\n",
       "      <td>https://onecms-res.cloudinary.com/image/upload...</td>\n",
       "      <td>2023-10-27 21:28:48.000000</td>\n",
       "      <td>Nice moved into provisional first place in the...</td>\n",
       "      <td>Monaco</td>\n",
       "      <td>nice moved into provisional first place in the...</td>\n",
       "      <td>Positive</td>\n",
       "    </tr>\n",
       "    <tr>\n",
       "      <th>2</th>\n",
       "      <td>81694</td>\n",
       "      <td>time</td>\n",
       "      <td>Time</td>\n",
       "      <td>Christina Larson / AP</td>\n",
       "      <td>amphibians are the world’s most vulnerable spe...</td>\n",
       "      <td>The world’s frogs, salamanders, newts, and oth...</td>\n",
       "      <td>https://time.com/6320467/amphibians-most-vulne...</td>\n",
       "      <td>https://api.time.com/wp-content/uploads/2023/1...</td>\n",
       "      <td>2023-10-04 17:36:18.000000</td>\n",
       "      <td>The worlds frogs, salamanders, newts and other...</td>\n",
       "      <td>Madagascar</td>\n",
       "      <td>the world’s frogs, salamanders, newts and othe...</td>\n",
       "      <td>Negative</td>\n",
       "    </tr>\n",
       "    <tr>\n",
       "      <th>3</th>\n",
       "      <td>81695</td>\n",
       "      <td>NaN</td>\n",
       "      <td>Phys.Org</td>\n",
       "      <td>Sara Schmidt</td>\n",
       "      <td>image: rusty red waters in madagascar</td>\n",
       "      <td>Iron-rich sediment colors the red-orange water...</td>\n",
       "      <td>https://phys.org/news/2023-10-image-rusty-red-...</td>\n",
       "      <td>https://scx2.b-cdn.net/gfx/news/2023/image-rus...</td>\n",
       "      <td>2023-10-31 18:04:02.000000</td>\n",
       "      <td>Iron-rich sediment colors the red-orange water...</td>\n",
       "      <td>Madagascar</td>\n",
       "      <td>iron-rich sediment colors the red-orange water...</td>\n",
       "      <td>Neutral</td>\n",
       "    </tr>\n",
       "    <tr>\n",
       "      <th>4</th>\n",
       "      <td>81703</td>\n",
       "      <td>NaN</td>\n",
       "      <td>Digital Trends</td>\n",
       "      <td>Jason Struss</td>\n",
       "      <td>everything leaving max (formerly hbo max) in n...</td>\n",
       "      <td>From Gangs of London to Fear the Walking Dead ...</td>\n",
       "      <td>https://www.digitaltrends.com/movies/everythin...</td>\n",
       "      <td>https://www.digitaltrends.com/wp-content/uploa...</td>\n",
       "      <td>2023-10-23 23:09:18.000000</td>\n",
       "      <td>Everything ends. No, I’m not having an existen...</td>\n",
       "      <td>Madagascar</td>\n",
       "      <td>everything ends. no, i’m not having an existen...</td>\n",
       "      <td>Neutral</td>\n",
       "    </tr>\n",
       "  </tbody>\n",
       "</table>\n",
       "</div>"
      ],
      "text/plain": [
       "   article_id source_id     source_name  \\\n",
       "0       81664       NaN          Forbes   \n",
       "1       81667       NaN             CNA   \n",
       "2       81694      time            Time   \n",
       "3       81695       NaN        Phys.Org   \n",
       "4       81703       NaN  Digital Trends   \n",
       "\n",
       "                                              author  \\\n",
       "0  Elizabeth Brownfield, Contributor, \\n Elizabet...   \n",
       "1                                                NaN   \n",
       "2                              Christina Larson / AP   \n",
       "3                                       Sara Schmidt   \n",
       "4                                       Jason Struss   \n",
       "\n",
       "                                               title  \\\n",
       "0  superstar chef yannick alléno brings refined f...   \n",
       "1  nice claim top spot in ligue 1 with late win a...   \n",
       "2  amphibians are the world’s most vulnerable spe...   \n",
       "3              image: rusty red waters in madagascar   \n",
       "4  everything leaving max (formerly hbo max) in n...   \n",
       "\n",
       "                                         description  \\\n",
       "0  Now open in Mayfair at Four Seasons Hotel Lond...   \n",
       "1  Nice moved into provisional first place in the...   \n",
       "2  The world’s frogs, salamanders, newts, and oth...   \n",
       "3  Iron-rich sediment colors the red-orange water...   \n",
       "4  From Gangs of London to Fear the Walking Dead ...   \n",
       "\n",
       "                                                 url  \\\n",
       "0  https://www.forbes.com/sites/elizabethbrownfie...   \n",
       "1  https://www.channelnewsasia.com/sport/nice-cla...   \n",
       "2  https://time.com/6320467/amphibians-most-vulne...   \n",
       "3  https://phys.org/news/2023-10-image-rusty-red-...   \n",
       "4  https://www.digitaltrends.com/movies/everythin...   \n",
       "\n",
       "                                        url_to_image  \\\n",
       "0  https://imageio.forbes.com/specials-images/ima...   \n",
       "1  https://onecms-res.cloudinary.com/image/upload...   \n",
       "2  https://api.time.com/wp-content/uploads/2023/1...   \n",
       "3  https://scx2.b-cdn.net/gfx/news/2023/image-rus...   \n",
       "4  https://www.digitaltrends.com/wp-content/uploa...   \n",
       "\n",
       "                 published_at  \\\n",
       "0  2023-11-01 03:27:21.000000   \n",
       "1  2023-10-27 21:28:48.000000   \n",
       "2  2023-10-04 17:36:18.000000   \n",
       "3  2023-10-31 18:04:02.000000   \n",
       "4  2023-10-23 23:09:18.000000   \n",
       "\n",
       "                                             content    category  \\\n",
       "0  Pavyllon London, at Four Seasons Hotel London ...      Monaco   \n",
       "1  Nice moved into provisional first place in the...      Monaco   \n",
       "2  The worlds frogs, salamanders, newts and other...  Madagascar   \n",
       "3  Iron-rich sediment colors the red-orange water...  Madagascar   \n",
       "4  Everything ends. No, I’m not having an existen...  Madagascar   \n",
       "\n",
       "                                             article title_sentiment  \n",
       "0  pavyllon london, at four seasons hotel london ...         Neutral  \n",
       "1  nice moved into provisional first place in the...        Positive  \n",
       "2  the world’s frogs, salamanders, newts and othe...        Negative  \n",
       "3  iron-rich sediment colors the red-orange water...         Neutral  \n",
       "4  everything ends. no, i’m not having an existen...         Neutral  "
      ]
     },
     "execution_count": 19,
     "metadata": {},
     "output_type": "execute_result"
    }
   ],
   "source": [
    "rating_data.head()"
   ]
  },
  {
   "cell_type": "code",
   "execution_count": 29,
   "metadata": {},
   "outputs": [
    {
     "name": "stdout",
     "output_type": "stream",
     "text": [
      "The website with the largest count of news articles is 'ETF Daily News' \n"
     ]
    }
   ],
   "source": [
    "#question 1\n",
    "largest_website = rating_data['source_name'].value_counts().idxmax()\n",
    "print(f\"The website with the largest count of news articles is '{largest_website}' \")"
   ]
  },
  {
   "cell_type": "code",
   "execution_count": 45,
   "metadata": {},
   "outputs": [
    {
     "name": "stdout",
     "output_type": "stream",
     "text": [
      "title_sentiment               Negative  Neutral  Positive dominant_sentiment\n",
      "source_name                                                                 \n",
      "ABC News                           726     1193       139            Neutral\n",
      "Al Jazeera English                 706      927        31            Neutral\n",
      "AllAfrica - Top Africa News          8       12         0            Neutral\n",
      "Android Central                     38      212       272           Positive\n",
      "BBC News                           854     1185        74            Neutral\n",
      "Boing Boing                        250      293       170            Neutral\n",
      "Business Insider                   890      907       237            Neutral\n",
      "CNA                                126      462        86            Neutral\n",
      "CNN                                102      142        23            Neutral\n",
      "Deadline                            84      794        54            Neutral\n",
      "Digital Trends                      43      335       406           Positive\n",
      "ETF Daily News                     560    15194       992            Neutral\n",
      "Euronews                           114      157        15            Neutral\n",
      "Forbes                             216     1933       635            Neutral\n",
      "Gizmodo.com                         76      253        59            Neutral\n",
      "Globalsecurity.org                 747     2255       117            Neutral\n",
      "GlobeNewswire                       27     4491       905            Neutral\n",
      "International Business Times       319      844        44            Neutral\n",
      "Marketscreener.com                  42     1167       153            Neutral\n",
      "NPR                                279      617        85            Neutral\n",
      "Phys.Org                           284      836       143            Neutral\n",
      "RT                                 403      698        27            Neutral\n",
      "ReadWrite                           38      216        70            Neutral\n",
      "The Indian Express                 251      787       138            Neutral\n",
      "The Punch                          455     1229       116            Neutral\n",
      "The Times of India                1210     5149      1145            Neutral\n",
      "The Verge                           35      118        61            Neutral\n",
      "Time                               185      382        33            Neutral\n",
      "Wired                               65      138        67            Neutral\n"
     ]
    }
   ],
   "source": [
    "#Question \n",
    "sentiment_counts = rating_data.groupby(['source_name', 'title_sentiment']).size().unstack(fill_value=0)\n",
    "sentiment_counts['dominant_sentiment'] = sentiment_counts.idxmax(axis=1)\n",
    "print(sentiment_counts)"
   ]
  },
  {
   "cell_type": "code",
   "execution_count": 46,
   "metadata": {},
   "outputs": [
    {
     "data": {
      "text/plain": [
       "Neutral     27\n",
       "Positive     2\n",
       "Name: dominant_sentiment, dtype: int64"
      ]
     },
     "execution_count": 46,
     "metadata": {},
     "output_type": "execute_result"
    }
   ],
   "source": [
    "sentiment_counts['dominant_sentiment'].value_counts()"
   ]
  },
  {
   "cell_type": "code",
   "execution_count": 9,
   "metadata": {},
   "outputs": [
    {
     "data": {
      "text/plain": [
       "'The worlds frogs, salamanders, newts and other amphibians remain in serious trouble.\\nA new global assessment has found that 41% of amphibian species that scientists have studied are threatened with … [+2579 chars]'"
      ]
     },
     "execution_count": 9,
     "metadata": {},
     "output_type": "execute_result"
    }
   ],
   "source": [
    "rating_data.iloc[2][\"content\"]"
   ]
  },
  {
   "cell_type": "code",
   "execution_count": 6,
   "metadata": {},
   "outputs": [
    {
     "name": "stdout",
     "output_type": "stream",
     "text": [
      "Countries with the highest number of news media organizations:\n",
      "country\n",
      "US             28\n",
      "CHINA          25\n",
      "EU             23\n",
      "AFRICA         22\n",
      "MIDDLE EAST    21\n",
      "RUSSIA         21\n",
      "UKRAINE        20\n",
      "Name: source_name, dtype: int64\n",
      "\n"
     ]
    }
   ],
   "source": [
    "#Question 3\n",
    "import re\n",
    "rating_data['description'] = rating_data['description'].str.upper()\n",
    "rating_data['country'] = rating_data['description'].str.extract(r'\\b(Africa|US|China|EU|Russia|Ukraine|Middle East)\\b', flags=re.IGNORECASE)\n",
    "country_media_orgs = rating_data.groupby('country')['source_name'].nunique()\n",
    "\n",
    "\n",
    "print(\"Countries with the highest number of news media organizations:\")\n",
    "print(country_media_orgs.nlargest(10))\n",
    "print()"
   ]
  },
  {
   "cell_type": "code",
   "execution_count": 16,
   "metadata": {},
   "outputs": [
    {
     "data": {
      "text/html": [
       "<div>\n",
       "<style scoped>\n",
       "    .dataframe tbody tr th:only-of-type {\n",
       "        vertical-align: middle;\n",
       "    }\n",
       "\n",
       "    .dataframe tbody tr th {\n",
       "        vertical-align: top;\n",
       "    }\n",
       "\n",
       "    .dataframe thead th {\n",
       "        text-align: right;\n",
       "    }\n",
       "</style>\n",
       "<table border=\"1\" class=\"dataframe\">\n",
       "  <thead>\n",
       "    <tr style=\"text-align: right;\">\n",
       "      <th></th>\n",
       "      <th>article_id</th>\n",
       "      <th>source_id</th>\n",
       "      <th>source_name</th>\n",
       "      <th>author</th>\n",
       "      <th>title</th>\n",
       "      <th>description</th>\n",
       "      <th>url</th>\n",
       "      <th>url_to_image</th>\n",
       "      <th>published_at</th>\n",
       "      <th>content</th>\n",
       "      <th>category</th>\n",
       "      <th>article</th>\n",
       "      <th>title_sentiment</th>\n",
       "      <th>country</th>\n",
       "    </tr>\n",
       "  </thead>\n",
       "  <tbody>\n",
       "    <tr>\n",
       "      <th>0</th>\n",
       "      <td>81664</td>\n",
       "      <td>NaN</td>\n",
       "      <td>Forbes</td>\n",
       "      <td>Elizabeth Brownfield, Contributor, \\n Elizabet...</td>\n",
       "      <td>superstar chef yannick alléno brings refined f...</td>\n",
       "      <td>Now open in Mayfair at Four Seasons Hotel Lond...</td>\n",
       "      <td>https://www.forbes.com/sites/elizabethbrownfie...</td>\n",
       "      <td>https://imageio.forbes.com/specials-images/ima...</td>\n",
       "      <td>2023-11-01 03:27:21.000000</td>\n",
       "      <td>Pavyllon London, at Four Seasons Hotel London ...</td>\n",
       "      <td>Monaco</td>\n",
       "      <td>pavyllon london, at four seasons hotel london ...</td>\n",
       "      <td>Neutral</td>\n",
       "      <td>NaN</td>\n",
       "    </tr>\n",
       "    <tr>\n",
       "      <th>1</th>\n",
       "      <td>81667</td>\n",
       "      <td>NaN</td>\n",
       "      <td>CNA</td>\n",
       "      <td>NaN</td>\n",
       "      <td>nice claim top spot in ligue 1 with late win a...</td>\n",
       "      <td>Nice moved into provisional first place in the...</td>\n",
       "      <td>https://www.channelnewsasia.com/sport/nice-cla...</td>\n",
       "      <td>https://onecms-res.cloudinary.com/image/upload...</td>\n",
       "      <td>2023-10-27 21:28:48.000000</td>\n",
       "      <td>Nice moved into provisional first place in the...</td>\n",
       "      <td>Monaco</td>\n",
       "      <td>nice moved into provisional first place in the...</td>\n",
       "      <td>Positive</td>\n",
       "      <td>NaN</td>\n",
       "    </tr>\n",
       "    <tr>\n",
       "      <th>2</th>\n",
       "      <td>81694</td>\n",
       "      <td>time</td>\n",
       "      <td>Time</td>\n",
       "      <td>Christina Larson / AP</td>\n",
       "      <td>amphibians are the world’s most vulnerable spe...</td>\n",
       "      <td>The world’s frogs, salamanders, newts, and oth...</td>\n",
       "      <td>https://time.com/6320467/amphibians-most-vulne...</td>\n",
       "      <td>https://api.time.com/wp-content/uploads/2023/1...</td>\n",
       "      <td>2023-10-04 17:36:18.000000</td>\n",
       "      <td>The worlds frogs, salamanders, newts and other...</td>\n",
       "      <td>Madagascar</td>\n",
       "      <td>the world’s frogs, salamanders, newts and othe...</td>\n",
       "      <td>Negative</td>\n",
       "      <td>NaN</td>\n",
       "    </tr>\n",
       "    <tr>\n",
       "      <th>3</th>\n",
       "      <td>81695</td>\n",
       "      <td>NaN</td>\n",
       "      <td>Phys.Org</td>\n",
       "      <td>Sara Schmidt</td>\n",
       "      <td>image: rusty red waters in madagascar</td>\n",
       "      <td>Iron-rich sediment colors the red-orange water...</td>\n",
       "      <td>https://phys.org/news/2023-10-image-rusty-red-...</td>\n",
       "      <td>https://scx2.b-cdn.net/gfx/news/2023/image-rus...</td>\n",
       "      <td>2023-10-31 18:04:02.000000</td>\n",
       "      <td>Iron-rich sediment colors the red-orange water...</td>\n",
       "      <td>Madagascar</td>\n",
       "      <td>iron-rich sediment colors the red-orange water...</td>\n",
       "      <td>Neutral</td>\n",
       "      <td>NaN</td>\n",
       "    </tr>\n",
       "    <tr>\n",
       "      <th>4</th>\n",
       "      <td>81703</td>\n",
       "      <td>NaN</td>\n",
       "      <td>Digital Trends</td>\n",
       "      <td>Jason Struss</td>\n",
       "      <td>everything leaving max (formerly hbo max) in n...</td>\n",
       "      <td>From Gangs of London to Fear the Walking Dead ...</td>\n",
       "      <td>https://www.digitaltrends.com/movies/everythin...</td>\n",
       "      <td>https://www.digitaltrends.com/wp-content/uploa...</td>\n",
       "      <td>2023-10-23 23:09:18.000000</td>\n",
       "      <td>Everything ends. No, I’m not having an existen...</td>\n",
       "      <td>Madagascar</td>\n",
       "      <td>everything ends. no, i’m not having an existen...</td>\n",
       "      <td>Neutral</td>\n",
       "      <td>NaN</td>\n",
       "    </tr>\n",
       "  </tbody>\n",
       "</table>\n",
       "</div>"
      ],
      "text/plain": [
       "   article_id source_id     source_name  \\\n",
       "0       81664       NaN          Forbes   \n",
       "1       81667       NaN             CNA   \n",
       "2       81694      time            Time   \n",
       "3       81695       NaN        Phys.Org   \n",
       "4       81703       NaN  Digital Trends   \n",
       "\n",
       "                                              author  \\\n",
       "0  Elizabeth Brownfield, Contributor, \\n Elizabet...   \n",
       "1                                                NaN   \n",
       "2                              Christina Larson / AP   \n",
       "3                                       Sara Schmidt   \n",
       "4                                       Jason Struss   \n",
       "\n",
       "                                               title  \\\n",
       "0  superstar chef yannick alléno brings refined f...   \n",
       "1  nice claim top spot in ligue 1 with late win a...   \n",
       "2  amphibians are the world’s most vulnerable spe...   \n",
       "3              image: rusty red waters in madagascar   \n",
       "4  everything leaving max (formerly hbo max) in n...   \n",
       "\n",
       "                                         description  \\\n",
       "0  Now open in Mayfair at Four Seasons Hotel Lond...   \n",
       "1  Nice moved into provisional first place in the...   \n",
       "2  The world’s frogs, salamanders, newts, and oth...   \n",
       "3  Iron-rich sediment colors the red-orange water...   \n",
       "4  From Gangs of London to Fear the Walking Dead ...   \n",
       "\n",
       "                                                 url  \\\n",
       "0  https://www.forbes.com/sites/elizabethbrownfie...   \n",
       "1  https://www.channelnewsasia.com/sport/nice-cla...   \n",
       "2  https://time.com/6320467/amphibians-most-vulne...   \n",
       "3  https://phys.org/news/2023-10-image-rusty-red-...   \n",
       "4  https://www.digitaltrends.com/movies/everythin...   \n",
       "\n",
       "                                        url_to_image  \\\n",
       "0  https://imageio.forbes.com/specials-images/ima...   \n",
       "1  https://onecms-res.cloudinary.com/image/upload...   \n",
       "2  https://api.time.com/wp-content/uploads/2023/1...   \n",
       "3  https://scx2.b-cdn.net/gfx/news/2023/image-rus...   \n",
       "4  https://www.digitaltrends.com/wp-content/uploa...   \n",
       "\n",
       "                 published_at  \\\n",
       "0  2023-11-01 03:27:21.000000   \n",
       "1  2023-10-27 21:28:48.000000   \n",
       "2  2023-10-04 17:36:18.000000   \n",
       "3  2023-10-31 18:04:02.000000   \n",
       "4  2023-10-23 23:09:18.000000   \n",
       "\n",
       "                                             content    category  \\\n",
       "0  Pavyllon London, at Four Seasons Hotel London ...      Monaco   \n",
       "1  Nice moved into provisional first place in the...      Monaco   \n",
       "2  The worlds frogs, salamanders, newts and other...  Madagascar   \n",
       "3  Iron-rich sediment colors the red-orange water...  Madagascar   \n",
       "4  Everything ends. No, I’m not having an existen...  Madagascar   \n",
       "\n",
       "                                             article title_sentiment country  \n",
       "0  pavyllon london, at four seasons hotel london ...         Neutral     NaN  \n",
       "1  nice moved into provisional first place in the...        Positive     NaN  \n",
       "2  the world’s frogs, salamanders, newts and othe...        Negative     NaN  \n",
       "3  iron-rich sediment colors the red-orange water...         Neutral     NaN  \n",
       "4  everything ends. no, i’m not having an existen...         Neutral     NaN  "
      ]
     },
     "execution_count": 16,
     "metadata": {},
     "output_type": "execute_result"
    }
   ],
   "source": [
    "rating_data.head()"
   ]
  },
  {
   "cell_type": "code",
   "execution_count": 17,
   "metadata": {},
   "outputs": [
    {
     "data": {
      "text/plain": [
       "Index(['article_id', 'source_id', 'source_name', 'author', 'title',\n",
       "       'description', 'url', 'url_to_image', 'published_at', 'content',\n",
       "       'category', 'article', 'title_sentiment', 'country'],\n",
       "      dtype='object')"
      ]
     },
     "execution_count": 17,
     "metadata": {},
     "output_type": "execute_result"
    }
   ],
   "source": [
    "rating_data.columns"
   ]
  },
  {
   "cell_type": "code",
   "execution_count": null,
   "metadata": {},
   "outputs": [],
   "source": [
    "# I want to implement something\n",
    "# Let see what I will do"
   ]
  },
  {
   "cell_type": "code",
   "execution_count": 24,
   "metadata": {},
   "outputs": [
    {
     "data": {
      "text/plain": [
       "'Now open in Mayfair at Four Seasons Hotel London at Park Lane, the restaurant is the Michelin-starred chef’s London debut.'"
      ]
     },
     "execution_count": 24,
     "metadata": {},
     "output_type": "execute_result"
    }
   ],
   "source": [
    "rating_data.iloc[0][\"description\"]"
   ]
  }
 ],
 "metadata": {
  "kernelspec": {
   "display_name": "Python 3",
   "language": "python",
   "name": "python3"
  },
  "language_info": {
   "codemirror_mode": {
    "name": "ipython",
    "version": 3
   },
   "file_extension": ".py",
   "mimetype": "text/x-python",
   "name": "python",
   "nbconvert_exporter": "python",
   "pygments_lexer": "ipython3",
   "version": "3.11.1"
  }
 },
 "nbformat": 4,
 "nbformat_minor": 2
}
